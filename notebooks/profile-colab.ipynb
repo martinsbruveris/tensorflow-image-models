{
  "nbformat": 4,
  "nbformat_minor": 0,
  "metadata": {
    "colab": {
      "name": "profile_model.ipynb",
      "provenance": [],
      "collapsed_sections": []
    },
    "kernelspec": {
      "name": "python3",
      "display_name": "Python 3"
    },
    "language_info": {
      "name": "python"
    },
    "accelerator": "GPU"
  },
  "cells": [
    {
      "cell_type": "code",
      "metadata": {
        "colab": {
          "base_uri": "https://localhost:8080/"
        },
        "id": "OfpPB3k01apy",
        "outputId": "85f089f8-0ba6-4214-a9ec-920c81cf5534"
      },
      "source": [
        "!git clone https://github.com/martinsbruveris/tensorflow-image-models.git\n",
        "%cd ./tensorflow-image-models"
      ],
      "execution_count": 2,
      "outputs": [
        {
          "output_type": "stream",
          "name": "stdout",
          "text": [
            "/content/tensorflow-image-models\n"
          ]
        }
      ]
    },
    {
      "cell_type": "code",
      "metadata": {
        "colab": {
          "base_uri": "https://localhost:8080/"
        },
        "id": "LH6c7GwFS7Qf",
        "outputId": "e3c2dbc9-ebb4-46fd-d739-871d780b80e9"
      },
      "source": [
        "!git checkout feat/profile"
      ],
      "execution_count": 4,
      "outputs": [
        {
          "output_type": "stream",
          "name": "stdout",
          "text": [
            "Already on 'feat/profile'\n",
            "Your branch is up to date with 'origin/feat/profile'.\n"
          ]
        }
      ]
    },
    {
      "cell_type": "code",
      "metadata": {
        "colab": {
          "base_uri": "https://localhost:8080/"
        },
        "id": "02LuLvLOTcqt",
        "outputId": "e9f440da-c46e-4bfa-adc8-26a08bf3b40b"
      },
      "source": [
        "!git pull"
      ],
      "execution_count": 8,
      "outputs": [
        {
          "output_type": "stream",
          "name": "stdout",
          "text": [
            "remote: Enumerating objects: 7, done.\u001b[K\n",
            "remote: Counting objects:  14% (1/7)\u001b[K\rremote: Counting objects:  28% (2/7)\u001b[K\rremote: Counting objects:  42% (3/7)\u001b[K\rremote: Counting objects:  57% (4/7)\u001b[K\rremote: Counting objects:  71% (5/7)\u001b[K\rremote: Counting objects:  85% (6/7)\u001b[K\rremote: Counting objects: 100% (7/7)\u001b[K\rremote: Counting objects: 100% (7/7), done.\u001b[K\n",
            "remote: Compressing objects: 100% (1/1)\u001b[K\rremote: Compressing objects: 100% (1/1), done.\u001b[K\n",
            "remote: Total 4 (delta 2), reused 4 (delta 2), pack-reused 0\u001b[K\n",
            "Unpacking objects:  25% (1/4)   \rUnpacking objects:  50% (2/4)   \rUnpacking objects:  75% (3/4)   \rUnpacking objects: 100% (4/4)   \rUnpacking objects: 100% (4/4), done.\n",
            "From https://github.com/martinsbruveris/tensorflow-image-models\n",
            "   5156a53..c467e7a  feat/profile -> origin/feat/profile\n",
            "Updating 5156a53..c467e7a\n",
            "Fast-forward\n",
            " scripts/profile_gpu.py | 8 \u001b[32m++++\u001b[m\u001b[31m----\u001b[m\n",
            " 1 file changed, 4 insertions(+), 4 deletions(-)\n"
          ]
        }
      ]
    },
    {
      "cell_type": "code",
      "metadata": {
        "colab": {
          "base_uri": "https://localhost:8080/"
        },
        "id": "TEzgitt1Vyq_",
        "outputId": "8632408a-ed3d-4064-8d22-93b7130c836c"
      },
      "source": [
        "from google.colab import drive\n",
        "drive.mount('/content/drive')"
      ],
      "execution_count": 6,
      "outputs": [
        {
          "output_type": "stream",
          "name": "stdout",
          "text": [
            "Mounted at /content/drive\n"
          ]
        }
      ]
    },
    {
      "cell_type": "code",
      "metadata": {
        "id": "UPuNwuMVS_lH"
      },
      "source": [
        "!PYTHONPATH=. python scripts/profile_gpu.py \\\n",
        "  --results-file /content/drive/MyDrive/results_k80.csv --module vit"
      ],
      "execution_count": null,
      "outputs": []
    }
  ]
}