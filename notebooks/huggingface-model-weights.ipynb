{
 "cells": [
  {
   "cell_type": "code",
   "execution_count": 1,
   "id": "a66f18ed",
   "metadata": {},
   "outputs": [],
   "source": [
    "import timm\n",
    "import tfimm\n",
    "\n",
    "from tfimm.models import register_model\n",
    "from tfimm.architectures.vit import ViTConfig, ViT"
   ]
  },
  {
   "cell_type": "markdown",
   "id": "122cc937",
   "metadata": {},
   "source": [
    "## Creating models with weights from huggingface"
   ]
  },
  {
   "cell_type": "markdown",
   "id": "02bb9c6a-3e41-42b1-9d73-e96997df5bb8",
   "metadata": {},
   "source": [
    "Make sure to pre-pend the `url` with [hf] and to also specify the file_name (e.g. `pytorch_model.bin`) in the url - see the examples below:"
   ]
  },
  {
   "cell_type": "markdown",
   "id": "13b3c0e2",
   "metadata": {},
   "source": [
    "### Loading timm models from huggingface"
   ]
  },
  {
   "cell_type": "code",
   "execution_count": 2,
   "id": "62170474",
   "metadata": {
    "scrolled": true
   },
   "outputs": [],
   "source": [
    "@register_model\n",
    "def vit_small_patch16_224_augreg_in1k_hf():\n",
    "    \"\"\"ViT-Small (ViT-S/16)\"\"\"\n",
    "    cfg = ViTConfig(\n",
    "        name=\"vit_small_patch16_224_augreg_in1k_hf\",\n",
    "        url=\"[hf]timm/vit_small_patch16_224.augreg_in1k/pytorch_model.bin\",\n",
    "        patch_size=16,\n",
    "        embed_dim=384,\n",
    "        nb_blocks=12,\n",
    "        nb_heads=6,\n",
    "    )\n",
    "    return ViT, cfg"
   ]
  },
  {
   "cell_type": "code",
   "execution_count": 3,
   "id": "45b9c36b",
   "metadata": {
    "scrolled": true
   },
   "outputs": [
    {
     "name": "stdout",
     "output_type": "stream",
     "text": [
      "url: timm/vit_small_patch16_224.augreg_in1k\n",
      "file_name: pytorch_model.bin\n"
     ]
    },
    {
     "name": "stderr",
     "output_type": "stream",
     "text": [
      "All PyTorch model weights were used when initializing ViT.\n",
      "All the weights of ViT were initialized from the PyTorch model.\n",
      "\n"
     ]
    }
   ],
   "source": [
    "model = tfimm.create_model(\"vit_small_patch16_224_augreg_in1k_hf\", pretrained=True)"
   ]
  },
  {
   "cell_type": "markdown",
   "id": "156d6f4b-8965-4e4e-8587-7ad4e5a01a75",
   "metadata": {},
   "source": [
    "### Loading fine-tuned models from huggingface the huggingface hub"
   ]
  },
  {
   "cell_type": "markdown",
   "id": "bdffcb99-6ea1-423d-a098-8dfb13b0218d",
   "metadata": {},
   "source": [
    "#### Here we dowload a model that was fine-tuned on cifar100 by one of the hf users"
   ]
  },
  {
   "cell_type": "code",
   "execution_count": 4,
   "id": "2300684d-3950-4691-bd98-f0262d9f7a17",
   "metadata": {},
   "outputs": [],
   "source": [
    "@register_model\n",
    "def vit_base_patch16_224_in21k_ft_cifar100():\n",
    "    \"\"\"\n",
    "    ViT-Base (ViT-B/16) from original paper (https://arxiv.org/abs/2010.11929).\n",
    "    \"\"\"\n",
    "    cfg = ViTConfig(\n",
    "        name=\"vit_base_patch16_224_in21k_ft_cifar100\",\n",
    "        url=\"[hf]edadaltocg/vit_base_patch16_224_in21k_ft_cifar100/pytorch_model.bin\",\n",
    "        patch_size=16,\n",
    "        embed_dim=768,\n",
    "        nb_blocks=12,\n",
    "        nb_heads=12,\n",
    "        nb_classes=100,\n",
    "    )\n",
    "    return ViT, cfg"
   ]
  },
  {
   "cell_type": "code",
   "execution_count": 5,
   "id": "921bcfbc-9ebe-46f7-8d88-d08628f902e5",
   "metadata": {},
   "outputs": [
    {
     "name": "stdout",
     "output_type": "stream",
     "text": [
      "url: edadaltocg/vit_base_patch16_224_in21k_ft_cifar100\n",
      "file_name: pytorch_model.bin\n"
     ]
    },
    {
     "name": "stderr",
     "output_type": "stream",
     "text": [
      "All PyTorch model weights were used when initializing ViT.\n",
      "All the weights of ViT were initialized from the PyTorch model.\n",
      "\n"
     ]
    }
   ],
   "source": [
    "model = tfimm.create_model(\"vit_base_patch16_224_in21k_ft_cifar100\", pretrained=True)"
   ]
  },
  {
   "cell_type": "code",
   "execution_count": null,
   "id": "36c819aa-3594-4334-864f-790314e6cd57",
   "metadata": {},
   "outputs": [],
   "source": []
  }
 ],
 "metadata": {
  "kernelspec": {
   "display_name": "Python 3 (ipykernel)",
   "language": "python",
   "name": "python3"
  },
  "language_info": {
   "codemirror_mode": {
    "name": "ipython",
    "version": 3
   },
   "file_extension": ".py",
   "mimetype": "text/x-python",
   "name": "python",
   "nbconvert_exporter": "python",
   "pygments_lexer": "ipython3",
   "version": "3.8.17"
  }
 },
 "nbformat": 4,
 "nbformat_minor": 5
}
